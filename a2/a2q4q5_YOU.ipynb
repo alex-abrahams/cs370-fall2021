{
 "cells": [
  {
   "cell_type": "markdown",
   "metadata": {},
   "source": [
    "# A2: Q4 and Q5"
   ]
  },
  {
   "cell_type": "code",
   "execution_count": null,
   "metadata": {},
   "outputs": [],
   "source": [
    "import numpy as np\n",
    "from scipy.sparse import dok_matrix\n",
    "from copy import deepcopy\n",
    "import matplotlib.pyplot as plt"
   ]
  },
  {
   "cell_type": "markdown",
   "metadata": {},
   "source": [
    "# A2Q4a: `SparseMatMult`"
   ]
  },
  {
   "cell_type": "code",
   "execution_count": null,
   "metadata": {},
   "outputs": [],
   "source": [
    "def SparseMatMult(G, x):\n",
    "    '''\n",
    "      y = SparseMatMult(G, x)\n",
    "      \n",
    "      Multiplies a vector (x) by a sparse matrix G,\n",
    "      such that y = G @ x .\n",
    "      \n",
    "      Inputs:\n",
    "        G is an NxM dictionary-of-keys (dok) sparse matrix\n",
    "        x is an M-vector\n",
    "      \n",
    "      Output:\n",
    "        y is an N-vector\n",
    "    '''\n",
    "    rows,cols = G.nonzero()\n",
    "    Nrows,Ncols = np.shape(G)\n",
    "    y = np.zeros(Nrows)\n",
    "    \n",
    "    # === YOUR CODE HERE ===\n",
    "    \n",
    "    return y"
   ]
  },
  {
   "cell_type": "code",
   "execution_count": null,
   "metadata": {},
   "outputs": [],
   "source": [
    "# Simple test\n",
    "#     [1  0  0]      [ 0.1 ]\n",
    "# A = [0  0 -1]  b = [ 0.2 ]\n",
    "#     [0  2  0]      [ 0.3 ]\n",
    "A = dok_matrix((3,3), dtype=np.float32)\n",
    "A[0,0] = 1.\n",
    "A[1,2] = -1.\n",
    "A[2,1] = 2.\n",
    "b = np.array([0.1, 0.2, 0.3])\n",
    "y = SparseMatMult(A, b)\n",
    "print(f'y = {y}')\n",
    "print(f'Answer should be [ 0.1 -0.3  0.4]')"
   ]
  },
  {
   "cell_type": "markdown",
   "metadata": {},
   "source": [
    "# A2Q4b: `PageRank`"
   ]
  },
  {
   "cell_type": "code",
   "execution_count": null,
   "metadata": {
    "code_folding": []
   },
   "outputs": [],
   "source": [
    "def PageRank(G, alpha):\n",
    "    '''\n",
    "     p, iters = PageRank(G, alpha)\n",
    "\n",
    "     Computes the Google Page-rank for the network in the adjacency matrix G.\n",
    "     \n",
    "     Note: This function never forms a full RxR matrix, where R is the number\n",
    "           of node in the network.\n",
    "\n",
    "     Input\n",
    "       G     is an RxR adjacency matrix, G[i,j] = 1 iff node j projects to node i\n",
    "             Note: G must be a dictionary-of-keys (dok) sparse matrix\n",
    "       alpha is a scalar between 0 and 1\n",
    "\n",
    "     Output\n",
    "       p     is a probability vector containing the Page-rank of each node\n",
    "       iters is the number of iterations used to achieve a change tolerance\n",
    "             of 1e-8 (changes to elements of p are all smaller than 1e-8)\n",
    "    '''\n",
    "    R = np.shape(G)[0]\n",
    "    rows,cols = G.nonzero()\n",
    "    iters = 0\n",
    "\n",
    "    # === YOUR CODE HERE ===\n",
    "\n",
    "    return p, iters"
   ]
  },
  {
   "cell_type": "markdown",
   "metadata": {},
   "source": [
    "# A2Q5: Illegal Trading Network"
   ]
  },
  {
   "cell_type": "markdown",
   "metadata": {},
   "source": [
    "## (a) Create sparse matrix"
   ]
  },
  {
   "cell_type": "code",
   "execution_count": null,
   "metadata": {},
   "outputs": [],
   "source": [
    "# === YOUR CODE HERE ===\n"
   ]
  },
  {
   "cell_type": "markdown",
   "metadata": {},
   "source": [
    "## (b) Run PageRank on network"
   ]
  },
  {
   "cell_type": "code",
   "execution_count": null,
   "metadata": {},
   "outputs": [],
   "source": [
    "# === YOUR CODE HERE ===\n"
   ]
  },
  {
   "cell_type": "markdown",
   "metadata": {},
   "source": [
    "## (c) Note to police"
   ]
  },
  {
   "cell_type": "markdown",
   "metadata": {},
   "source": [
    "DOUBLE-CLICK TO PLACE YOUR COMMENTS HERE\n"
   ]
  },
  {
   "cell_type": "code",
   "execution_count": null,
   "metadata": {},
   "outputs": [],
   "source": []
  }
 ],
 "metadata": {
  "kernelspec": {
   "display_name": "Python 3",
   "language": "python",
   "name": "python3"
  },
  "language_info": {
   "codemirror_mode": {
    "name": "ipython",
    "version": 3
   },
   "file_extension": ".py",
   "mimetype": "text/x-python",
   "name": "python",
   "nbconvert_exporter": "python",
   "pygments_lexer": "ipython3",
   "version": "3.8.3"
  }
 },
 "nbformat": 4,
 "nbformat_minor": 2
}
