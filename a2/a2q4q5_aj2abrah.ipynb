{
 "cells": [
  {
   "cell_type": "markdown",
   "metadata": {},
   "source": [
    "# A2: Q4 and Q5"
   ]
  },
  {
   "cell_type": "code",
   "execution_count": null,
   "metadata": {},
   "outputs": [],
   "source": [
    "import numpy as np\n",
    "from scipy.sparse import dok_matrix\n",
    "from copy import deepcopy\n",
    "import matplotlib.pyplot as plt"
   ]
  },
  {
   "cell_type": "markdown",
   "metadata": {},
   "source": [
    "# A2Q4a: `SparseMatMult`"
   ]
  },
  {
   "cell_type": "code",
   "execution_count": null,
   "metadata": {},
   "outputs": [],
   "source": [
    "def SparseMatMult(G, x):\n",
    "    '''\n",
    "      y = SparseMatMult(G, x)\n",
    "      \n",
    "      Multiplies a vector (x) by a sparse matrix G,\n",
    "      such that y = G @ x .\n",
    "      \n",
    "      Inputs:\n",
    "        G is an NxM dictionary-of-keys (dok) sparse matrix\n",
    "        x is an M-vector\n",
    "      \n",
    "      Output:\n",
    "        y is an N-vector\n",
    "    '''\n",
    "    rows,cols = G.nonzero()\n",
    "    Nrows,Ncols = np.shape(G)\n",
    "    y = np.zeros(Nrows)\n",
    "    \n",
    "    # === YOUR CODE HERE ===\n",
    "    size = len(rows)\n",
    "    for n in range(size):\n",
    "        i = rows[n]\n",
    "        j = cols[n]\n",
    "        y[i] += x[j]*G[i,j]\n",
    "    \n",
    "    return y"
   ]
  },
  {
   "cell_type": "code",
   "execution_count": null,
   "metadata": {},
   "outputs": [
    {
     "name": "stdout",
     "output_type": "stream",
     "text": [
      "y = [ 0.1 -0.1  0.4]\n",
      "Answer should be [ 0.1 -0.1  0.4]\n"
     ]
    }
   ],
   "source": [
    "# Simple test\n",
    "#     [1  0  0]      [ 0.1 ]\n",
    "# A = [0  1 -1]  b = [ 0.2 ]\n",
    "#     [0  2  0]      [ 0.3 ]\n",
    "A = dok_matrix((3,3), dtype=np.float32)\n",
    "A[0,0] = 1\n",
    "A[1,2] = -1\n",
    "A[1,1] = 1\n",
    "A[2,1] = 2\n",
    "b = np.array([0.1, 0.2, 0.3])\n",
    "y = SparseMatMult(A, b)\n",
    "print(f'y = {y}')\n",
    "print(f'Answer should be [ 0.1 -0.1  0.4]')"
   ]
  },
  {
   "cell_type": "markdown",
   "metadata": {},
   "source": [
    "# A2Q4b: `PageRank`"
   ]
  },
  {
   "cell_type": "code",
   "execution_count": 85,
   "metadata": {},
   "outputs": [],
   "source": [
    "def PageRank(G, alpha):\n",
    "    '''\n",
    "     p, iters = PageRank(G, alpha)\n",
    "\n",
    "     Computes the Google Page-rank for the network in the adjacency matrix G.\n",
    "     \n",
    "     Note: This function never forms a full RxR matrix, where R is the number\n",
    "           of node in the network.\n",
    "\n",
    "     Input\n",
    "       G     is an RxR adjacency matrix, G[i,j] = 1 iff node j projects to node i\n",
    "             Note: G must be a dictionary-of-keys (dok) sparse matrix\n",
    "       alpha is a scalar between 0 and 1\n",
    "\n",
    "     Output\n",
    "       p     is a probability vector containing the Page-rank of each node\n",
    "       iters is the number of iterations used to achieve a change tolerance\n",
    "             of 1e-8 (changes to elements of p are all smaller than 1e-8)\n",
    "    '''\n",
    "    R = np.shape(G)[0]\n",
    "    rows,cols = G.nonzero()\n",
    "    iters = 0\n",
    "\n",
    "    # === YOUR CODE HERE ===\n",
    "    # calculate degrees\n",
    "    deg = np.zeros(R)\n",
    "    for j in range(R):\n",
    "        for x in cols:\n",
    "            if (x == j):\n",
    "                deg[j] += 1\n",
    "    #print(f'degs: {deg}')\n",
    "    # make P\n",
    "    P = G\n",
    "    for n in range(len(rows)):\n",
    "        i = rows[n]\n",
    "        j = cols[n]\n",
    "        P[i,j] = P[i,j]/deg[j]\n",
    "        #print(f'value at {i},{j} = {P[i,j]}')\n",
    "    # make initial p\n",
    "    p = np.zeros(R)\n",
    "    for i in range(R):\n",
    "        p[i] = 1/R\n",
    "    #print(f'p = {p}')\n",
    "    \n",
    "    # iterate\n",
    "    diff = 1\n",
    "    iters = 0\n",
    "    while (abs(diff) > 0.00000001):\n",
    "        oldp = np.zeros(R)\n",
    "        for i in range(R):\n",
    "            oldp[i] = p[i]\n",
    "        #print(f'{oldp}')\n",
    "        degtimesp = np.zeros(R)\n",
    "        for i in range(R):\n",
    "            if (deg[i] == 0):\n",
    "                degtimesp[i] = (p[i])/R\n",
    "            else:\n",
    "                degtimesp[i] = 0\n",
    "        ptimesp = SparseMatMult(P, p)\n",
    "        #print(f'd times p = {degtimesp}')\n",
    "        #print(f'P times p = {ptimesp}')\n",
    "        # generate new p\n",
    "        for i in range(R):\n",
    "            p[i] = (ptimesp[i]+degtimesp[i])*alpha + (1-alpha)/R\n",
    "        #print(f'    new p = {p}')\n",
    "        # compare\n",
    "        diffs = np.zeros(R)\n",
    "        for i in range(R):\n",
    "            diffs[i] = abs(p[i]-oldp[i])\n",
    "            #print(f'diffs[{i}] = abs({p[i]}-{oldp[i]}) = {diffs[i]}')\n",
    "        diff = max(diffs)\n",
    "        iters += 1\n",
    "\n",
    "    return p, iters"
   ]
  },
  {
   "cell_type": "code",
   "execution_count": 86,
   "metadata": {},
   "outputs": [
    {
     "name": "stdout",
     "output_type": "stream",
     "text": [
      "p = [0.26752809 0.25239887 0.13226952 0.16974589 0.06247637 0.11558128], 38 iterations\n"
     ]
    }
   ],
   "source": [
    "A = dok_matrix((6,6), dtype=np.float32)\n",
    "A[1,0] = 1\n",
    "A[0,3] = 1\n",
    "A[0,5] = 1\n",
    "A[2,1] = 1\n",
    "A[3,1] = 1\n",
    "A[3,2] = 1\n",
    "A[4,2] = 1\n",
    "A[5,2] = 1\n",
    "A[5,4] = 1\n",
    "# its the example from the lecture\n",
    "alph = 0.85\n",
    "p, iters = PageRank(A, alph)\n",
    "print(f'p = {p}, {iters} iterations')"
   ]
  },
  {
   "cell_type": "markdown",
   "metadata": {
    "tags": []
   },
   "source": [
    "\\pagebreak"
   ]
  },
  {
   "cell_type": "markdown",
   "metadata": {},
   "source": [
    "## (a) Create sparse matrix"
   ]
  },
  {
   "cell_type": "code",
   "execution_count": 83,
   "metadata": {},
   "outputs": [],
   "source": [
    "# === YOUR CODE HERE ===\n",
    "A = dok_matrix((12,12), dtype=np.float32)\n",
    "A[1,0] = 0.38\n",
    "A[0,1] = 0.06\n",
    "A[2,0] = 0.38\n",
    "A[0,2] = 0.47\n",
    "A[2,1] = 0.41\n",
    "A[1,2] = 0.29\n",
    "A[4,0] = 0.24\n",
    "A[0,4] = 0.09\n",
    "A[3,2] = 0.24\n",
    "A[2,3] = 0.08\n",
    "A[4,3] = 0.42\n",
    "A[3,4] = 0.04\n",
    "A[5,1] = 0.53\n",
    "A[1,5] = 0.09\n",
    "A[5,3] = 0.5\n",
    "A[3,5] = 0.28\n",
    "A[5,4] = 0.09\n",
    "A[4,5] = 0.19\n",
    "A[6,4] = 0.13\n",
    "A[4,6] = 0.39\n",
    "A[7,6] = 0.17\n",
    "A[6,7] = 0.21\n",
    "A[7,5] = 0.22\n",
    "A[5,7] = 0.15\n",
    "A[8,6] = 0.23\n",
    "A[6,8] = 0.24\n",
    "A[8,7] = 0.21\n",
    "A[7,8] = 0.24\n",
    "A[9,8] = 0.32\n",
    "A[8,9] = 0.05\n",
    "A[9,7] = 0.1\n",
    "A[7,9] = 0.4\n",
    "A[9,6] = 0.27\n",
    "A[6,9] = 0.3\n",
    "A[10,9] = 0.25\n",
    "A[9,10] = 0.6\n",
    "A[10,8] = 0.2\n",
    "A[8,10] = 0.07\n",
    "A[10,7] = 0.18\n",
    "A[7,10] = 0.33\n",
    "A[11,7] = 0.15\n",
    "A[7,11] = 0.29\n",
    "A[11,6] = 0.2\n",
    "A[6,11] = 0.47\n",
    "A[11,5] = 0.22\n",
    "A[5,11] = 0.18\n",
    "A[11,4] = 0.39\n",
    "A[4,11] = 0.06"
   ]
  },
  {
   "cell_type": "markdown",
   "metadata": {},
   "source": [
    "## (b) Run PageRank on network"
   ]
  },
  {
   "cell_type": "code",
   "execution_count": 84,
   "metadata": {},
   "outputs": [
    {
     "data": {
      "image/png": "[encoded data removed]",
      "text/plain": [
       "<Figure size 432x288 with 1 Axes>"
      ]
     },
     "metadata": {
      "needs_background": "light"
     },
     "output_type": "display_data"
    }
   ],
   "source": [
    "alph = 1\n",
    "p, iters = PageRank(A, alph)\n",
    "plt.bar(['A','B','C','D','E','F','G','H','I','J','K','L'],p, label=\"Page Ranks\")\n",
    "plt.legend()\n",
    "plt.xlabel('Member')\n",
    "plt.ylabel('Rank')\n",
    "plt.title('Page Rankings')\n",
    "plt.show()"
   ]
  },
  {
   "cell_type": "markdown",
   "metadata": {},
   "source": [
    "## (c) Note to police"
   ]
  },
  {
   "cell_type": "markdown",
   "metadata": {},
   "source": [
    "based on the data, i would conclude that H is the most influential, followed by F"
   ]
  },
  {
   "cell_type": "code",
   "execution_count": null,
   "metadata": {},
   "outputs": [],
   "source": []
  }
 ],
 "metadata": {
  "kernelspec": {
   "display_name": "Python 3",
   "language": "python",
   "name": "python3"
  },
  "language_info": {
   "codemirror_mode": {
    "name": "ipython",
    "version": 3
   },
   "file_extension": ".py",
   "mimetype": "text/x-python",
   "name": "python",
   "nbconvert_exporter": "python",
   "pygments_lexer": "ipython3",
   "version": "3.7.10"
  }
 },
 "nbformat": 4,
 "nbformat_minor": 4
}
