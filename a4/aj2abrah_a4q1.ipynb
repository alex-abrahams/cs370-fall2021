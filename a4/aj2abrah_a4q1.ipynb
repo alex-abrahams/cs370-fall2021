{
 "cells": [
  {
   "cell_type": "markdown",
   "metadata": {},
   "source": [
    "# A4-Q1: `MySpline`"
   ]
  },
  {
   "cell_type": "code",
   "execution_count": 1,
   "metadata": {},
   "outputs": [],
   "source": [
    "import numpy as np\n",
    "import matplotlib.pyplot as plt\n",
    "%matplotlib inline"
   ]
  },
  {
   "cell_type": "markdown",
   "metadata": {},
   "source": [
    "## `MySpline`"
   ]
  },
  {
   "cell_type": "code",
   "execution_count": 2,
   "metadata": {},
   "outputs": [],
   "source": [
    "def MySpline(x, y):\n",
    "    '''\n",
    "     S = MySpline(x, y)\n",
    "\n",
    "     Input:\n",
    "       x and y are arrays (or lists) of corresponding x- and y-values,\n",
    "       specifying the points in the x-y plane.  The x-values\n",
    "       must be in increasing order.\n",
    "\n",
    "     Output:\n",
    "       S is a function that takes x or an array (or list) of x-values\n",
    "         It evaluates the cubic spline and returns the interpolated value.\n",
    "\n",
    "     Implementation:\n",
    "       Note that there is one more \"a\" than \"b\" or \"c\". I would suggest\n",
    "       the following mapping:\n",
    "       \n",
    "         a[0] = a_0          b[0] = b_1        c[0] = c_1\n",
    "         a[1] = a_1          b[1] = b_2        c[1] = c_2\n",
    "              :                   :                 :\n",
    "         a[n-2] = a_(n-2)    b[n-2] = b_(n-1)  c[n-2] = c_(n-1)\n",
    "         a[n-1] = a_(n-1)\n",
    "         \n",
    "       The polynomial piece is evaluated at xx using\n",
    "       \n",
    "         p_i(xx) = a[i]*(x[i+1]-xx)**3/(6*hi) + a[i+1]*(xx-x[i])**3/(6*hi) +\n",
    "                   b[i]*(x[i+1]-xx) + c[i]*(xx-x[i])\n",
    "\n",
    "       where hk = x[k+1] - x[k] for k = 0, ... , n-1\n",
    "    '''\n",
    "    n = len(x)\n",
    "    h = np.zeros(n-1)\n",
    "    a = np.zeros(n)\n",
    "    b = np.zeros(n-1)\n",
    "    c = np.zeros(n-1)\n",
    "    \n",
    "    M = np.zeros((n,n))\n",
    "    r = np.zeros(n)\n",
    "    \n",
    "    # === YOUR CODE HERE ===\n",
    "    \n",
    "    # make h\n",
    "    for i in range(0,n-1):\n",
    "        h[i] = x[i+1] - x[i]\n",
    "    # make r\n",
    "    for i in range(1,n-1):\n",
    "        r[i] = (y[i+1] - y[i]) / h[i] - (y[i] - y[i-1]) / h[i-1]\n",
    "    # make M\n",
    "    for m in range(1,n-1):\n",
    "        M[m][m-1] = h[m-1] / 6\n",
    "        M[m][m] = (h[m-1] + h[m]) / 3\n",
    "        M[m][m+1] = h[m] / 6\n",
    "    M[0][0] = 1\n",
    "    M[n-1][n-1] = 1\n",
    "    \n",
    "    # make a\n",
    "    a = np.linalg.solve(M,r)\n",
    "    \n",
    "    # make b and c\n",
    "    for i in range(0,n-1):\n",
    "        b[i] = y[i] / h[i] - a[i] * h[i] / 6\n",
    "        c[i] = y[i+1] / h[i] - a[i+1] * h[i] / 6\n",
    "        \n",
    "    \n",
    "    #======================================\n",
    "    #\n",
    "    # This is the function that gets returned.\n",
    "    # It evaluates the cubic spline at xvals.\n",
    "    #\n",
    "    def spline(xvals, x=x, a=a, b=b, c=c):\n",
    "        '''\n",
    "         S = spline(xvals)\n",
    "\n",
    "         Evaluates the cubic spline at xvals.\n",
    "\n",
    "         Inputs:\n",
    "          xvals can be list-like, or a scalar (**must be in ascending order**)\n",
    "\n",
    "         Output:\n",
    "          S is a list of values with the same number of elements as x\n",
    "        '''\n",
    "        # Turn non-list-like input into list-like\n",
    "        if type(xvals) not in (list, np.ndarray,):\n",
    "            xvals = [xvals]\n",
    "\n",
    "        S = []  # The return list of values\n",
    "\n",
    "        # \n",
    "        k = 0   # this is the current polynomial piece\n",
    "        hk = x[k+1] - x[k]\n",
    "\n",
    "        for xx in xvals:\n",
    "\n",
    "            # If the next x-value is not on the current piece...\n",
    "            if xx>x[k+1]:\n",
    "                # ... Go to next piece\n",
    "                k += 1\n",
    "                hk = x[k+1] - x[k]\n",
    "\n",
    "            S_of_x = a[k]*(x[k+1]-xx)**3/(6*hk) + a[k+1]*(xx-x[k])**3/(6*hk) + b[k]*(x[k+1]-xx) + c[k]*(xx-x[k])\n",
    "\n",
    "            S.append(S_of_x)\n",
    "\n",
    "        return S\n",
    "    #======================================\n",
    "    \n",
    "    return spline"
   ]
  },
  {
   "cell_type": "markdown",
   "metadata": {},
   "source": [
    "## Test `MySpline`"
   ]
  },
  {
   "cell_type": "code",
   "execution_count": 3,
   "metadata": {},
   "outputs": [],
   "source": [
    "# Simple data points to interpolate\n",
    "y = [1, 3, 4, 2, -1, 1]\n",
    "t = [0, 1, 2, 3,  4, 5]"
   ]
  },
  {
   "cell_type": "code",
   "execution_count": 8,
   "metadata": {},
   "outputs": [],
   "source": [
    "# Call the function\n",
    "sp = MySpline(t,y)"
   ]
  },
  {
   "cell_type": "code",
   "execution_count": 11,
   "metadata": {},
   "outputs": [
    {
     "data": {
      "text/plain": [
       "Text(0, 0.5, 'MySpline(t)')"
      ]
     },
     "execution_count": 11,
     "metadata": {},
     "output_type": "execute_result"
    },
    {
     "data": {
      "image/png": "[encoded data removed]",
      "text/plain": [
       "<Figure size 432x288 with 1 Axes>"
      ]
     },
     "metadata": {
      "needs_background": "light"
     },
     "output_type": "display_data"
    }
   ],
   "source": [
    "# Plot the spline and the interpolation points\n",
    "xx = np.arange(0, 5, 0.05)\n",
    "fig = plt.figure()\n",
    "ax=fig.add_axes([0,0,1,1])\n",
    "ax.plot(xx,sp(xx))\n",
    "ax.plot(t,y,'bo')\n",
    "ax.set_title(\"MySpline\")\n",
    "ax.set_xlabel('t')\n",
    "ax.set_ylabel('MySpline(t)')"
   ]
  },
  {
   "cell_type": "code",
   "execution_count": null,
   "metadata": {},
   "outputs": [],
   "source": []
  }
 ],
 "metadata": {
  "kernelspec": {
   "display_name": "Python 3",
   "language": "python",
   "name": "python3"
  },
  "language_info": {
   "codemirror_mode": {
    "name": "ipython",
    "version": 3
   },
   "file_extension": ".py",
   "mimetype": "text/x-python",
   "name": "python",
   "nbconvert_exporter": "python",
   "pygments_lexer": "ipython3",
   "version": "3.7.10"
  }
 },
 "nbformat": 4,
 "nbformat_minor": 4
}
