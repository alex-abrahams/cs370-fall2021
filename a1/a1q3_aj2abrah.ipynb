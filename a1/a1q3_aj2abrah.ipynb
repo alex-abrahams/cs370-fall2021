{
 "cells": [
  {
   "cell_type": "markdown",
   "metadata": {},
   "source": [
    "# A1Q3\n"
   ]
  },
  {
   "cell_type": "code",
   "execution_count": 35,
   "metadata": {
    "tags": []
   },
   "outputs": [],
   "source": [
    "# Standard imports\n",
    "import numpy as np\n",
    "import math\n",
    "import matplotlib.pyplot as plt"
   ]
  },
  {
   "cell_type": "markdown",
   "metadata": {},
   "source": [
    "# (a) Implement `PowerSin(x)`"
   ]
  },
  {
   "cell_type": "code",
   "execution_count": 44,
   "metadata": {
    "tags": []
   },
   "outputs": [],
   "source": [
    "def PowerSin(x):\n",
    "    '''\n",
    "     sum, n = PowerSin(x)\n",
    "     \n",
    "     Computes an approximation of the sin function using a power series.\n",
    "     \n",
    "     Input:\n",
    "      x    scalar value\n",
    "      \n",
    "     Output:\n",
    "      sum  scalar value\n",
    "      n    the number of terms used in the series\n",
    "    '''\n",
    "    n = 0\n",
    "    sum = 0\n",
    "    term = 1\n",
    "    while (sum + term != sum):\n",
    "        power = 2*n+1\n",
    "        numerator = math.pow(x,power)\n",
    "        denominator = math.factorial(power)\n",
    "        term = numerator/denominator\n",
    "        if (n % 2 == 1):\n",
    "            term = -term\n",
    "        sum = sum + term\n",
    "        n += 1\n",
    "    \n",
    "    return sum, n"
   ]
  },
  {
   "cell_type": "code",
   "execution_count": 45,
   "metadata": {},
   "outputs": [
    {
     "name": "stdout",
     "output_type": "stream",
     "text": [
      "0.49999999999999994\n",
      "9 terms\n"
     ]
    }
   ],
   "source": [
    "val, n = PowerSin(np.pi/6.)\n",
    "print(val)\n",
    "print(f'{n} terms')"
   ]
  },
  {
   "cell_type": "markdown",
   "metadata": {},
   "source": [
    "# (b) Plot"
   ]
  },
  {
   "cell_type": "code",
   "execution_count": 43,
   "metadata": {},
   "outputs": [
    {
     "data": {
      "text/plain": [
       "Text(0, 0.5, 'PowerSin(x)')"
      ]
     },
     "execution_count": 43,
     "metadata": {},
     "output_type": "execute_result"
    },
    {
     "data": {
      "image/png": "[encoded data removed]",
      "text/plain": [
       "<Figure size 432x288 with 1 Axes>"
      ]
     },
     "metadata": {
      "needs_background": "light"
     },
     "output_type": "display_data"
    }
   ],
   "source": [
    "%matplotlib inline\n",
    "x = np.arange(0, math.pi*2, 0.05)\n",
    "vecd = np.vectorize(PowerSin)\n",
    "y = vecd(x)\n",
    "#print(x,'\\n', len(x), '\\n', y[0], '\\n', len(y[0]))\n",
    "fig = plt.figure()\n",
    "ax=fig.add_axes([0,0,1,1])\n",
    "ax.plot(x,y[0])\n",
    "ax.set_title(\"PowerSin\")\n",
    "ax.set_xlabel('x')\n",
    "ax.set_ylabel('PowerSin(x)')"
   ]
  },
  {
   "cell_type": "markdown",
   "metadata": {},
   "source": [
    "# (c)"
   ]
  },
  {
   "cell_type": "markdown",
   "metadata": {},
   "source": [
    "the loop terminates when there is a term so small that the floating point system rounds it down to 0"
   ]
  },
  {
   "cell_type": "markdown",
   "metadata": {},
   "source": [
    "# (d) Error of `PowerSin`"
   ]
  },
  {
   "cell_type": "code",
   "execution_count": 48,
   "metadata": {},
   "outputs": [
    {
     "data": {
      "text/html": [
       "<div>\n",
       "<style scoped>\n",
       "    .dataframe tbody tr th:only-of-type {\n",
       "        vertical-align: middle;\n",
       "    }\n",
       "\n",
       "    .dataframe tbody tr th {\n",
       "        vertical-align: top;\n",
       "    }\n",
       "\n",
       "    .dataframe thead th {\n",
       "        text-align: right;\n",
       "    }\n",
       "</style>\n",
       "<table border=\"1\" class=\"dataframe\">\n",
       "  <thead>\n",
       "    <tr style=\"text-align: right;\">\n",
       "      <th></th>\n",
       "      <th>computed value</th>\n",
       "      <th>exact value</th>\n",
       "      <th>number of terms</th>\n",
       "      <th>absolute error</th>\n",
       "      <th>relative error</th>\n",
       "    </tr>\n",
       "  </thead>\n",
       "  <tbody>\n",
       "    <tr>\n",
       "      <th>0</th>\n",
       "      <td>1.000000</td>\n",
       "      <td>1.0</td>\n",
       "      <td>12</td>\n",
       "      <td>2.220446e-16</td>\n",
       "      <td>2.220446e-16</td>\n",
       "    </tr>\n",
       "    <tr>\n",
       "      <th>1</th>\n",
       "      <td>-1.000000</td>\n",
       "      <td>-1.0</td>\n",
       "      <td>38</td>\n",
       "      <td>1.559011e-10</td>\n",
       "      <td>1.559011e-10</td>\n",
       "    </tr>\n",
       "    <tr>\n",
       "      <th>2</th>\n",
       "      <td>1.004625</td>\n",
       "      <td>1.0</td>\n",
       "      <td>60</td>\n",
       "      <td>4.624905e-03</td>\n",
       "      <td>4.624905e-03</td>\n",
       "    </tr>\n",
       "    <tr>\n",
       "      <th>3</th>\n",
       "      <td>17863.025855</td>\n",
       "      <td>-1.0</td>\n",
       "      <td>78</td>\n",
       "      <td>1.786403e+04</td>\n",
       "      <td>1.786403e+04</td>\n",
       "    </tr>\n",
       "  </tbody>\n",
       "</table>\n",
       "</div>"
      ],
      "text/plain": [
       "   computed value  exact value  number of terms  absolute error  \\\n",
       "0        1.000000          1.0               12    2.220446e-16   \n",
       "1       -1.000000         -1.0               38    1.559011e-10   \n",
       "2        1.004625          1.0               60    4.624905e-03   \n",
       "3    17863.025855         -1.0               78    1.786403e+04   \n",
       "\n",
       "   relative error  \n",
       "0    2.220446e-16  \n",
       "1    1.559011e-10  \n",
       "2    4.624905e-03  \n",
       "3    1.786403e+04  "
      ]
     },
     "execution_count": 48,
     "metadata": {},
     "output_type": "execute_result"
    }
   ],
   "source": [
    "import pandas as pd\n",
    "values = [math.pi/2, 11*math.pi/2, 21*math.pi/2, 31*math.pi/2]\n",
    "data = []\n",
    "for x in values:\n",
    "    powersinned = PowerSin(x)\n",
    "    powersin = powersinned[0]\n",
    "    terms = powersinned[1]\n",
    "    exact = math.sin(x)\n",
    "    abserr = abs(powersin-exact)\n",
    "    relerr = abserr/abs(exact)\n",
    "    data.append([powersin, exact, terms, abserr, relerr])\n",
    "pd.DataFrame(data, columns=[\"computed value\",\"exact value\",\"number of terms\",\"absolute error\",\"relative error\"])"
   ]
  },
  {
   "cell_type": "markdown",
   "metadata": {},
   "source": [
    "# (e) Conclusions"
   ]
  },
  {
   "cell_type": "markdown",
   "metadata": {},
   "source": [
    "\n",
    "it works better at values of x closer to 0. if the magnitude is too large, it creates more floating point errors, and after a certain point it just goes haywire with overflow. it is thus not ideal for this function, unless you just use values of x with small magnitude (ie, within a single wavelength)\n"
   ]
  },
  {
   "cell_type": "code",
   "execution_count": null,
   "metadata": {},
   "outputs": [],
   "source": []
  }
 ],
 "metadata": {
  "kernelspec": {
   "display_name": "Python 3",
   "language": "python",
   "name": "python3"
  },
  "language_info": {
   "codemirror_mode": {
    "name": "ipython",
    "version": 3
   },
   "file_extension": ".py",
   "mimetype": "text/x-python",
   "name": "python",
   "nbconvert_exporter": "python",
   "pygments_lexer": "ipython3",
   "version": "3.7.10"
  }
 },
 "nbformat": 4,
 "nbformat_minor": 4
}
