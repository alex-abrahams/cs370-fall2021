{
 "cells": [
  {
   "cell_type": "markdown",
   "metadata": {},
   "source": [
    "# A3-Q4: Golf Driving Range"
   ]
  },
  {
   "cell_type": "code",
   "execution_count": 24,
   "metadata": {},
   "outputs": [],
   "source": [
    "import numpy as np\n",
    "from copy import deepcopy\n",
    "import matplotlib.pyplot as plt\n",
    "g = 9.81\n",
    "k = 0.5"
   ]
  },
  {
   "cell_type": "code",
   "execution_count": 25,
   "metadata": {},
   "outputs": [],
   "source": [
    "# Supplied functions\n",
    "def Ground(d):\n",
    "    '''\n",
    "     h = Ground(d)\n",
    "     \n",
    "     Returns the height (in metres) of the ground at a horizontal distance\n",
    "     d (metres) from the origin.\n",
    "    '''\n",
    "    return np.sin(d/3.) - 3.*np.sin(d/10.)\n",
    "\n",
    "def GroundSlope(d):\n",
    "    '''\n",
    "     h = GroundSlope(d)\n",
    "     \n",
    "     Returns the slope of the ground at a horizontal distance\n",
    "     d (metres) from the origin.\n",
    "    '''\n",
    "    return 1./3*np.cos(d/3) - 3./10*np.cos(d/10.)"
   ]
  },
  {
   "cell_type": "markdown",
   "metadata": {},
   "source": [
    "## (a) MyOde"
   ]
  },
  {
   "cell_type": "code",
   "execution_count": 44,
   "metadata": {},
   "outputs": [],
   "source": [
    "\n",
    "def MyOde(f, tspan, y0, h, event=(lambda t,y:1)):\n",
    "    '''\n",
    "     t,y = MyOde(f, tspan, y0, h, event=[])\n",
    "    \n",
    "     Numerically solves the initial value problem\n",
    "    \n",
    "        dy(t)/dt = f(t,y)\n",
    "            y(0) = y0\n",
    "    \n",
    "     using the Modified Euler time-stepping method.\n",
    "    \n",
    "     Input\n",
    "       f       a Python dynamics function with calling sequence\n",
    "                  dydt = f(t, y)\n",
    "       tspan   2-tuple giving the start and end times, [start, end]\n",
    "       y0      initial state of the system (as a 1D vector)\n",
    "       h       the time step to use (this is not adaptive time stepping)\n",
    "       events  an event function with calling sequence\n",
    "                  val = events(t, y)\n",
    "               The computation stops as soon as a negative value is\n",
    "               returned by the event function.\n",
    "    \n",
    "     Output\n",
    "       t       1D vector holding time stamps\n",
    "       y       an array that holds one state vector per row (corresponding\n",
    "               to the time stamps)\n",
    "    \n",
    "       Notes:\n",
    "           - t and y have the same number of rows.\n",
    "    \n",
    "           - The first element of t should be tspan[0], and the first\n",
    "             row of y should be the initial state, y0.\n",
    "             \n",
    "           - The event function is NOT called until the second time step.\n",
    "    \n",
    "           - If the computation was stopped by the triggering of an event,\n",
    "             then the last row of t and y should correspond to the\n",
    "             time that linear interpolation indicates for the zero-crossing\n",
    "             of the event-function.\n",
    "    '''\n",
    "    \n",
    "    # Initialize output arrays, tlst and ylst\n",
    "    t = tspan[0]\n",
    "    y = deepcopy(y0)\n",
    "    i = t\n",
    "    \n",
    "    tlst = []\n",
    "    ylst = []\n",
    "    \n",
    "    tlst.append(t)\n",
    "    ylst.append(list(y))\n",
    "\n",
    "    # === YOUR CODE HERE ===\n",
    "    xpos = y0[0]\n",
    "    ypos = y0[1]\n",
    "    xspeed = y0[2]\n",
    "    yspeed = y0[3]\n",
    "    \n",
    "    while (i < tspan[1]):\n",
    "        i += h\n",
    "        xspeed_temp = xspeed + h * f(i, [xspeed,yspeed])[0]\n",
    "        yspeed_temp = yspeed + h * f(i, [xspeed,yspeed])[1]\n",
    "        xspeed = xspeed + (h/2)*(f(i, [xspeed,yspeed])[0]+f(i, [xspeed_temp,yspeed_temp])[0])\n",
    "        yspeed = yspeed + (h/2)*(f(i, [xspeed,yspeed])[1]+f(i, [xspeed_temp,yspeed_temp])[1])\n",
    "        xpos += xspeed\n",
    "        ypos += yspeed\n",
    "        if (event(i,[xpos,ypos,xspeed,yspeed]) < 0):\n",
    "            break\n",
    "        ylst.append(np.array([xpos,ypos,xspeed,yspeed]))\n",
    "        tlst.append(i)\n",
    "    \n",
    "    # Return the time stamps, and corresponding solutions\n",
    "    return tlst, np.array(ylst)"
   ]
  },
  {
   "cell_type": "markdown",
   "metadata": {},
   "source": [
    "## (b) Dynamics Function: `projectile`"
   ]
  },
  {
   "cell_type": "code",
   "execution_count": 45,
   "metadata": {},
   "outputs": [],
   "source": [
    "def projectile(t, z):\n",
    "    dzdt = np.zeros_like(z)\n",
    "    \n",
    "    # === YOUR CODE HERE ===\n",
    "    dzdt[0] = -k*z[0]\n",
    "    dzdt[1] = -g-k*z[1]\n",
    "    \n",
    "    return dzdt"
   ]
  },
  {
   "cell_type": "markdown",
   "metadata": {},
   "source": [
    "## (c) Events Function: `projectile_events`"
   ]
  },
  {
   "cell_type": "code",
   "execution_count": 46,
   "metadata": {},
   "outputs": [],
   "source": [
    "def projectile_events(t, z):\n",
    "    val = 1\n",
    "    \n",
    "    # === YOUR CODE HERE ===\n",
    "    if (z[1] < Ground(z[0])):\n",
    "        val = -1\n",
    "    \n",
    "    return val"
   ]
  },
  {
   "cell_type": "markdown",
   "metadata": {},
   "source": [
    "## (d) Two flights"
   ]
  },
  {
   "cell_type": "code",
   "execution_count": 66,
   "metadata": {},
   "outputs": [],
   "source": [
    "# Here is the code for one sample flight.\n",
    "theta = 45\n",
    "S = 70\n",
    "tspan = [0, 30]\n",
    "h = 0.05\n",
    "theta_rad = theta/180.*np.pi\n",
    "yStart = np.array([0, 0, S*np.cos(theta_rad), S*np.sin(theta_rad)])\n",
    "t,y = MyOde(projectile, tspan, yStart, h, projectile_events)\n"
   ]
  },
  {
   "cell_type": "code",
   "execution_count": 74,
   "metadata": {},
   "outputs": [],
   "source": [
    "perp_angle = (np.arctan(GroundSlope(y[len(y)-1][0]))+np.pi/2) % (2*np.pi)\n",
    "speed = np.sqrt(np.square(y[len(y)-1][2])+np.square(y[len(y)-1][3]))\n",
    "angle = np.arctan2(y[len(y)-1][3],y[len(y)-1][2])\n",
    "rev_angle = (angle+np.pi)%(2*np.pi)\n",
    "new_angle = perp_angle + (perp_angle-rev_angle)\n",
    "yStart2 = np.array([y[len(y)-1][0], y[len(y)-1][1], speed*np.cos(new_angle), speed*np.sin(new_angle)])\n",
    "t2,y2 = MyOde(projectile, tspan, yStart2, h, projectile_events)"
   ]
  },
  {
   "cell_type": "code",
   "execution_count": 75,
   "metadata": {},
   "outputs": [
    {
     "data": {
      "image/png": "[encoded data removed]",
      "text/plain": [
       "<Figure size 720x288 with 1 Axes>"
      ]
     },
     "metadata": {
      "needs_background": "light"
     },
     "output_type": "display_data"
    }
   ],
   "source": [
    "# Plot the ground\n",
    "x = np.linspace(-10, 3000, 300)\n",
    "hills = Ground(x)\n",
    "plt.figure(figsize=[10,4])\n",
    "plt.plot(x,hills, 'k')\n",
    "plt.axis('equal')\n",
    "plt.plot([0],[0], 'ko')   # Plot initial ball position\n",
    "plt.plot(y[:,0], y[:,1])  # Plot ball trajectory\n",
    "plt.plot(y[-1,0], y[-1,1], 'ko')  # Plot final ball position\n",
    "plt.plot(y2[:,0], y2[:,1])  # Plot ball trajectory\n",
    "plt.plot(y2[-1,0], y2[-1,1], 'ko')  # Plot final ball position\n",
    "plt.title(r'$\\theta$ = '+str(theta)+'$^\\circ$');\n",
    "plt.xlabel('Distance (m)')\n",
    "plt.ylabel('Height (m)');\n"
   ]
  },
  {
   "cell_type": "code",
   "execution_count": null,
   "metadata": {
    "scrolled": true
   },
   "outputs": [],
   "source": []
  },
  {
   "cell_type": "markdown",
   "metadata": {},
   "source": [
    "## (e) Optimal $\\theta$"
   ]
  },
  {
   "cell_type": "markdown",
   "metadata": {},
   "source": [
    "Double-click to answer here.\n"
   ]
  },
  {
   "cell_type": "code",
   "execution_count": 79,
   "metadata": {},
   "outputs": [
    {
     "data": {
      "image/png": "[encoded data removed]",
      "text/plain": [
       "<Figure size 720x288 with 1 Axes>"
      ]
     },
     "metadata": {
      "needs_background": "light"
     },
     "output_type": "display_data"
    }
   ],
   "source": [
    "theta = 23\n",
    "S = 70\n",
    "tspan = [0, 30]\n",
    "h = 0.05\n",
    "theta_rad = theta/180.*np.pi\n",
    "yStart = np.array([0, 0, S*np.cos(theta_rad), S*np.sin(theta_rad)])\n",
    "t,y = MyOde(projectile, tspan, yStart, h, projectile_events)\n",
    "\n",
    "perp_angle = (GroundSlope(y[len(y)-1][0])+np.pi/2) % (2*np.pi)\n",
    "speed = np.sqrt(np.square(y[len(y)-1][2])+np.square(y[len(y)-1][3]))\n",
    "#print(y[len(y)-1][2])\n",
    "#print(y[len(y)-1][3])\n",
    "#print(speed)\n",
    "#print(GroundSlope(y[len(y)-1][0])/np.pi*180)\n",
    "#print(perp_angle/np.pi*180)\n",
    "angle = np.arctan2(y[len(y)-1][3],y[len(y)-1][2])\n",
    "rev_angle = (angle+np.pi)%(2*np.pi)\n",
    "new_angle = perp_angle + (perp_angle-rev_angle)\n",
    "yStart2 = np.array([y[len(y)-1][0], y[len(y)-1][1], speed*np.cos(new_angle), speed*np.sin(new_angle)])\n",
    "t2,y2 = MyOde(projectile, tspan, yStart2, h, projectile_events)\n",
    "\n",
    "# Plot the ground\n",
    "x = np.linspace(-10, 3000, 300)\n",
    "hills = Ground(x)\n",
    "plt.figure(figsize=[10,4])\n",
    "plt.plot(x,hills, 'k')\n",
    "plt.axis('equal')\n",
    "plt.plot([0],[0], 'ko')   # Plot initial ball position\n",
    "plt.plot(y[:,0], y[:,1])  # Plot ball trajectory\n",
    "plt.plot(y2[:,0], y2[:,1])  # Plot ball trajectory 2\n",
    "plt.plot(y2[-1,0], y2[-1,1], 'ko')  # Plot final ball position\n",
    "plt.title(r'$\\theta$ = '+str(theta)+'$^\\circ$');\n",
    "plt.xlabel('Distance (m)')\n",
    "plt.ylabel('Height (m)');"
   ]
  },
  {
   "cell_type": "code",
   "execution_count": null,
   "metadata": {},
   "outputs": [],
   "source": []
  }
 ],
 "metadata": {
  "kernelspec": {
   "display_name": "Python 3",
   "language": "python",
   "name": "python3"
  },
  "language_info": {
   "codemirror_mode": {
    "name": "ipython",
    "version": 3
   },
   "file_extension": ".py",
   "mimetype": "text/x-python",
   "name": "python",
   "nbconvert_exporter": "python",
   "pygments_lexer": "ipython3",
   "version": "3.7.10"
  }
 },
 "nbformat": 4,
 "nbformat_minor": 4
}
