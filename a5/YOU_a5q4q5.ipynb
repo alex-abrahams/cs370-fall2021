{
 "cells": [
  {
   "cell_type": "markdown",
   "metadata": {},
   "source": [
    "# A5-Q3Q4: DCT and JPEG Compression"
   ]
  },
  {
   "cell_type": "code",
   "execution_count": null,
   "metadata": {},
   "outputs": [],
   "source": [
    "import numpy as np\n",
    "import matplotlib.pyplot as plt"
   ]
  },
  {
   "cell_type": "code",
   "execution_count": null,
   "metadata": {},
   "outputs": [],
   "source": []
  },
  {
   "cell_type": "markdown",
   "metadata": {},
   "source": [
    "## Q3: Discrete Cosine Transform"
   ]
  },
  {
   "cell_type": "markdown",
   "metadata": {},
   "source": [
    "### Some helper functions"
   ]
  },
  {
   "cell_type": "code",
   "execution_count": null,
   "metadata": {},
   "outputs": [],
   "source": [
    "def EvenExtension(f):\n",
    "    '''\n",
    "     fe = EvenExtension(f)\n",
    "     \n",
    "     Performs an even extension on the array f.\n",
    "    \n",
    "     Input:\n",
    "       f is a 2D array\n",
    "    \n",
    "     Output:\n",
    "       fe is the even extension of f\n",
    "    \n",
    "     If f has dimensions NxM, then fe has dimensions\n",
    "        (2*N-2)x(2*M-2)\n",
    "     and fe[n,j]=fe[-n,j] for n=0,...,N-1\n",
    "     and fe[n,j]=fe[n,-j] for j=0,...,M-1\n",
    "    \n",
    "     For example, if f is 5x4, then fe has dimensions 8x6.\n",
    "    \n",
    "     IEvenExtension is the inverse of EvenExtension, so that\n",
    "        IEvenExtension(EvenExtension(f)) == f\n",
    "     for any matrix f.\n",
    "    \n",
    "    '''\n",
    "    fe = np.concatenate((f,np.fliplr(f[:,1:-1])), axis=1)\n",
    "    fe = np.concatenate((fe, np.flipud(fe[1:-1,:])), axis=0)\n",
    "    \n",
    "    return fe\n",
    "\n",
    "def IEvenExtension(fe):\n",
    "    '''\n",
    "     f = IEvenExtension(fe)\n",
    "    \n",
    "     Reverses the action of an even extension.\n",
    "    \n",
    "     Input:\n",
    "       fe is a 2D array, assumed to contain an even extension\n",
    "    \n",
    "     Output:\n",
    "       f is the sub-array that was used to generate the extension\n",
    "    \n",
    "     If fe has dimensions KxL, then f has dimensions\n",
    "        ceil((K+1)/2) x ceil((L+1)/2)\n",
    "     For example, if fe is 8x6, then f is 5x4.\n",
    "    \n",
    "     IEvenExtension is the inverse of EvenExtension, so that\n",
    "        IEvenExtension(EvenExtension(f)) == f\n",
    "     for any matrix f.\n",
    "    \n",
    "    '''\n",
    "    e_dims = np.array(np.shape(fe))\n",
    "    dims = np.ceil((e_dims+1.)/2)\n",
    "    dims = np.array(dims, dtype=int)\n",
    "    f = fe[:dims[0], :dims[1]]\n",
    "    #f = fe(1:dims(1),1:dims(2));\n",
    "    return f"
   ]
  },
  {
   "cell_type": "code",
   "execution_count": null,
   "metadata": {},
   "outputs": [],
   "source": [
    "# First, a simple 1D example.\n",
    "f = np.array([[1,2,3,4,5]])\n",
    "fe = EvenExtension(f)\n",
    "print(fe)"
   ]
  },
  {
   "cell_type": "code",
   "execution_count": null,
   "metadata": {},
   "outputs": [],
   "source": [
    "# Define a simple 2-D array to play with\n",
    "f = np.array([[1,2,3,4],[5,6,7,8],[9,10,11,12]], dtype=float)\n",
    "print(f)"
   ]
  },
  {
   "cell_type": "code",
   "execution_count": null,
   "metadata": {},
   "outputs": [],
   "source": [
    "# Even extension\n",
    "fe = EvenExtension(f)\n",
    "print(fe)"
   ]
  },
  {
   "cell_type": "code",
   "execution_count": null,
   "metadata": {},
   "outputs": [],
   "source": [
    "# Check that it's even, if you don't believe me\n",
    "n = np.random.randint(np.shape(f)[0])\n",
    "j = np.random.randint(np.shape(f)[1])\n",
    "print((n,j))\n",
    "print(fe[n,j])\n",
    "print(fe[-n,-j])"
   ]
  },
  {
   "cell_type": "code",
   "execution_count": null,
   "metadata": {},
   "outputs": [],
   "source": [
    "# Inverse even extension\n",
    "g = IEvenExtension(fe)\n",
    "print(g)"
   ]
  },
  {
   "cell_type": "markdown",
   "metadata": {},
   "source": [
    "### `myDCT`"
   ]
  },
  {
   "cell_type": "code",
   "execution_count": null,
   "metadata": {},
   "outputs": [],
   "source": [
    "def myDCT(f):\n",
    "    '''\n",
    "     F = myDCT(f)\n",
    "    \n",
    "     Computes the 2-D Discrete Cosine Transform of input image f.\n",
    "     It uses an even extension of f, along with the 2D-DFT.\n",
    "     This function is the inverse of myIDCT.\n",
    "    \n",
    "     Input:\n",
    "      f is a 2-D array of real values\n",
    "    \n",
    "     Output:\n",
    "      F is a real-valued array the same size as f\n",
    "    '''\n",
    "    F = np.zeros_like(f)\n",
    "    # ==== YOUR CODE HERE ====\n",
    "\n",
    "    return np.real(F)"
   ]
  },
  {
   "cell_type": "markdown",
   "metadata": {},
   "source": [
    "### `myIDCT`"
   ]
  },
  {
   "cell_type": "code",
   "execution_count": null,
   "metadata": {},
   "outputs": [],
   "source": [
    "def myIDCT(F):\n",
    "    '''\n",
    "     f = myIDCT(F)\n",
    "    \n",
    "     Computes the 2-D Inverse Discrete Cosine Transform (IDCT) of input\n",
    "     array Fdct. It uses an even extension of Fdct, along with the 2D-IDFT.\n",
    "     This function is the inverse of myDCT.\n",
    "    \n",
    "     Input:\n",
    "      F is a 2-D array of real values\n",
    "    \n",
    "     Output:\n",
    "      f is a real-valued array the same size as Fdct\n",
    "    '''\n",
    "    f = np.zeros_like(F)\n",
    "    # ==== YOUR CODE HERE ====\n",
    "    \n",
    "    return np.real(f)"
   ]
  },
  {
   "cell_type": "markdown",
   "metadata": {},
   "source": [
    "## Here are some built-in implementations...\n",
    "... in case you're having trouble with `myDCT` and `myIDCT`."
   ]
  },
  {
   "cell_type": "code",
   "execution_count": null,
   "metadata": {},
   "outputs": [],
   "source": [
    "# '''\n",
    "# These work for 2D arrays only.\n",
    "# '''\n",
    "# from scipy.fft import dct, idct\n",
    "# def myDCT(f):\n",
    "#     t = 1\n",
    "#     return dct(dct(f.T, type=t).T, type=t)\n",
    "# def myIDCT(F):\n",
    "#     return np.real(idct(idct(F.T, type=1).T, type=1))"
   ]
  },
  {
   "cell_type": "markdown",
   "metadata": {},
   "source": [
    "## Q4: JPEG Compression"
   ]
  },
  {
   "cell_type": "code",
   "execution_count": null,
   "metadata": {},
   "outputs": [],
   "source": [
    "# A couple functions to help you\n",
    "def NumPixels(f):\n",
    "    '''\n",
    "     n = NumPixels(f) returns the total number of elements in the array f.\n",
    "     \n",
    "     For example,\n",
    "       NumPixels( np.ones((5,4)) )\n",
    "     returns the value 20.\n",
    "    '''\n",
    "    return np.prod(np.shape(f))\n",
    "\n",
    "def Show(g, title=''):\n",
    "    '''\n",
    "     Show(g, title='')\n",
    "     \n",
    "     Displays the image g as a graylevel image with intensities\n",
    "     clipped to the range [0,255].\n",
    "    '''\n",
    "    plt.imshow(np.clip(g, a_min=0, a_max=255), cmap='gray');\n",
    "    plt.axis('off');\n",
    "    plt.title(title);"
   ]
  },
  {
   "cell_type": "markdown",
   "metadata": {},
   "source": [
    "### `myJPEGCompress`"
   ]
  },
  {
   "cell_type": "code",
   "execution_count": null,
   "metadata": {},
   "outputs": [],
   "source": [
    "def myJPEGCompress(f, T, D):\n",
    "    '''\n",
    "     G = myJPEGCompress(f, T, D)\n",
    "    \n",
    "     Input\n",
    "        f is the input image, a 2D array of real numbers\n",
    "        T is the tile size to break the input image into\n",
    "        D is the size of the block of Fourier coefficients to keep\n",
    "          (Bigger values of D result in less loss, but less compression)\n",
    "    \n",
    "     Output\n",
    "        G is the compressed encoding of the image\n",
    "    \n",
    "     Example: If f is 120x120, then\n",
    "    \n",
    "        G = myJPEGCompress(f, 10, 4)\n",
    "    \n",
    "     would return an array (G) of size 48x48.\n",
    "    '''\n",
    "    h,w = np.shape(f)  # returns the width and height of f\n",
    "    G = np.zeros( (int(np.floor(h/T)*D), int(np.floor(w/T)*D)) ) # this is not guaranteed to be the right size\n",
    "    # ==== YOUR CODE HERE ====\n",
    "    \n",
    "    return G"
   ]
  },
  {
   "cell_type": "markdown",
   "metadata": {},
   "source": [
    "### `myJPEGDecompress`"
   ]
  },
  {
   "cell_type": "code",
   "execution_count": null,
   "metadata": {},
   "outputs": [],
   "source": [
    "def myJPEGDecompress(G, T, D):\n",
    "    '''\n",
    "     f = myJPEGDecompress(G, T, D)\n",
    "    \n",
    "     Input\n",
    "        G is the compressed encoding, a 2D array of real numbers\n",
    "        T is the tile size for reassembling the decompressed image\n",
    "        D is the size of the blocks of Fourier coefficients that were\n",
    "          kept when the image was compressed\n",
    "          (Bigger values of D result in less loss, but less compression)\n",
    "    \n",
    "     Output\n",
    "        f is the decompressed, reconstructed image\n",
    "    \n",
    "     Example: If G is 48x48, then\n",
    "    \n",
    "        f = myJPEGDecompress(G, 10, 4);\n",
    "    \n",
    "     would return an array (f) of size 120x120.\n",
    "    '''\n",
    "    n_hblocks = int( np.shape(G)[0]/D )\n",
    "    n_wblocks = int( np.shape(G)[1]/D )\n",
    "    \n",
    "    f = np.zeros( (T*n_hblocks, T*n_wblocks) )\n",
    "    \n",
    "    wblocks = np.arange(0, np.shape(f)[1], T)\n",
    "    hblocks = np.arange(0, np.shape(f)[0], T)\n",
    "    \n",
    "    # ==== YOUR CODE HERE ====\n",
    "\n",
    "    return f"
   ]
  },
  {
   "cell_type": "markdown",
   "metadata": {},
   "source": [
    "### Demonstrate Compression"
   ]
  },
  {
   "cell_type": "code",
   "execution_count": null,
   "metadata": {},
   "outputs": [],
   "source": [
    "f = plt.imread('Jinan.jpg')[:,:,0]\n",
    "Show(f)"
   ]
  },
  {
   "cell_type": "code",
   "execution_count": null,
   "metadata": {},
   "outputs": [],
   "source": [
    "# Set the tile size\n",
    "T = 10"
   ]
  },
  {
   "cell_type": "code",
   "execution_count": null,
   "metadata": {},
   "outputs": [],
   "source": [
    "# Compression ratio 2:1\n"
   ]
  },
  {
   "cell_type": "code",
   "execution_count": null,
   "metadata": {},
   "outputs": [],
   "source": [
    "# Compression ratio 4:1\n"
   ]
  },
  {
   "cell_type": "code",
   "execution_count": null,
   "metadata": {},
   "outputs": [],
   "source": [
    "# Compression ratio 25:1\n"
   ]
  },
  {
   "cell_type": "code",
   "execution_count": null,
   "metadata": {},
   "outputs": [],
   "source": [
    "# Plot your reconstructions.\n",
    "plt.figure(figsize=(15,12))\n",
    "plt.subplot(2,2,1); Show(f, title='Original');\n",
    "# === YOUR CODE HERE ===\n"
   ]
  },
  {
   "cell_type": "code",
   "execution_count": null,
   "metadata": {},
   "outputs": [],
   "source": []
  },
  {
   "cell_type": "code",
   "execution_count": null,
   "metadata": {},
   "outputs": [],
   "source": []
  }
 ],
 "metadata": {
  "kernelspec": {
   "display_name": "Python 3",
   "language": "python",
   "name": "python3"
  },
  "language_info": {
   "codemirror_mode": {
    "name": "ipython",
    "version": 3
   },
   "file_extension": ".py",
   "mimetype": "text/x-python",
   "name": "python",
   "nbconvert_exporter": "python",
   "pygments_lexer": "ipython3",
   "version": "3.8.3"
  },
  "toc": {
   "nav_menu": {},
   "number_sections": true,
   "sideBar": true,
   "skip_h1_title": false,
   "title_cell": "Table of Contents",
   "title_sidebar": "Contents",
   "toc_cell": false,
   "toc_position": {},
   "toc_section_display": true,
   "toc_window_display": false
  }
 },
 "nbformat": 4,
 "nbformat_minor": 2
}
